{
 "cells": [
  {
   "cell_type": "markdown",
   "id": "694f59c2",
   "metadata": {},
   "source": [
    "# Phase 2 Array\n",
    "---"
   ]
  },
  {
   "cell_type": "code",
   "execution_count": 4,
   "id": "d8abb628",
   "metadata": {},
   "outputs": [],
   "source": [
    "import numpy as np"
   ]
  },
  {
   "cell_type": "markdown",
   "id": "fb5cf212",
   "metadata": {},
   "source": [
    "## NumPy Array Operation \n",
    "---\n"
   ]
  },
  {
   "cell_type": "markdown",
   "id": "577baabf",
   "metadata": {},
   "source": [
    "- Basic Slicing\n"
   ]
  },
  {
   "cell_type": "code",
   "execution_count": 5,
   "id": "593d5b65",
   "metadata": {},
   "outputs": [
    {
     "name": "stdout",
     "output_type": "stream",
     "text": [
      "Orginal Array:\n",
      " [ 0  1  2  3  4  5  6  7  8  9 10]\n",
      "Basic Slicing:\n",
      " [2 3 4 5]\n",
      "Negetive Index: 0\n",
      "Negetive Index: 6\n",
      "Negetive Index: 7\n",
      "\n",
      "\n",
      "\n",
      "Orginal Array:\n",
      " [ 1  2  3  4  5  6  7  8  9 10]\n",
      "Basic Slicing :\n",
      " [4 5 6 7 8]\n",
      "Negetive Index: 7\n",
      "Negetive Index: 8\n",
      "Negetive Index: 9\n"
     ]
    }
   ],
   "source": [
    "arr = np.arange(11)\n",
    "print(\"Orginal Array:\\n\",arr)\n",
    "print(\"Basic Slicing:\\n\",arr[2:6])\n",
    "print(\"Negetive Index:\",arr[-0])\n",
    "print(\"Negetive Index:\",arr[-5])\n",
    "print(\"Negetive Index:\",arr[-4])\n",
    "\n",
    "print(\"\\n\\n\")\n",
    "\n",
    "arr1 = np.array([1,2,3,4,5,6,7,8,9,10])\n",
    "print(\"Orginal Array:\\n\",arr1)\n",
    "print(\"Basic Slicing :\\n\",arr1[3:8])\n",
    "print(\"Negetive Index:\",arr[-4])\n",
    "print(\"Negetive Index:\",arr[-3])\n",
    "print(\"Negetive Index:\",arr[-2])"
   ]
  },
  {
   "cell_type": "code",
   "execution_count": 6,
   "id": "1f617259",
   "metadata": {},
   "outputs": [
    {
     "name": "stdout",
     "output_type": "stream",
     "text": [
      "With Step Or Slice [1 4 7]\n",
      "With Step Or Slice [2 4]\n"
     ]
    }
   ],
   "source": [
    "print(\"With Step Or Slice\",arr[1:10:3]) # in this 1:10:3 => 1 is start index, 10 is stop index, 3 is the index that is picked after first  index\n",
    "print(\"With Step Or Slice\",arr1[1:5:2])"
   ]
  },
  {
   "cell_type": "markdown",
   "id": "cdd98c6b",
   "metadata": {},
   "source": [
    "---\n",
    "## 2D Array"
   ]
  },
  {
   "cell_type": "code",
   "execution_count": 7,
   "id": "a54f7866",
   "metadata": {},
   "outputs": [
    {
     "name": "stdout",
     "output_type": "stream",
     "text": [
      "Specific Element : 5\n",
      "Specific Element : 1\n",
      "Specific Element : 3\n",
      "Selct  row       : [7 8 9]\n",
      "selected Column  : [3 6 9]\n",
      "Maximim Value : 9\n"
     ]
    }
   ],
   "source": [
    "arr2d = np.array([\n",
    "    [1,2,3],\n",
    "    [4,5,6],\n",
    "    [7,8,9]\n",
    "])\n",
    "\n",
    "print(\"Specific Element :\",arr2d[1,1])\n",
    "print(\"Specific Element :\",arr2d[0,0])\n",
    "print(\"Specific Element :\",arr2d[0,2])\n",
    "\n",
    "print(\"Selct  row       :\",arr2d[2])\n",
    "print(\"selected Column  :\",arr2d[:,2])\n",
    "\n",
    "arr2dmax = arr2d.max()\n",
    "print(\"Maximim Value :\",arr2dmax)\n"
   ]
  },
  {
   "cell_type": "markdown",
   "id": "efb760a0",
   "metadata": {},
   "source": [
    "---\n",
    "## Sorting Array"
   ]
  },
  {
   "cell_type": "code",
   "execution_count": 8,
   "id": "f0b0f275",
   "metadata": {},
   "outputs": [
    {
     "name": "stdout",
     "output_type": "stream",
     "text": [
      "[  3   2   4   4   5   6   2   5   6   7  32   4  56   2 455  67  24]\n",
      "sorted array [  2   2   2   3   4   4   4   5   5   6   6   7  24  32  56  67 455]\n"
     ]
    }
   ],
   "source": [
    "unsorted = np.array([3,2,4,4,5,6,2,5,6,7,32,4,56,2,455,67,24])\n",
    "print(unsorted)\n",
    "print(\"sorted array\",np.sort(unsorted))"
   ]
  },
  {
   "cell_type": "markdown",
   "id": "f22e0b92",
   "metadata": {},
   "source": [
    "---\n",
    "### Sorting 2D Array\n"
   ]
  },
  {
   "cell_type": "code",
   "execution_count": 9,
   "id": "23cf39d5",
   "metadata": {},
   "outputs": [
    {
     "name": "stdout",
     "output_type": "stream",
     "text": [
      "Sorting 2D By Column \n",
      " [[1 1]\n",
      " [2 2]\n",
      " [3 2]\n",
      " [5 4]]\n",
      "Sorting 2D By Row \n",
      " [[1 2]\n",
      " [1 3]\n",
      " [2 4]\n",
      " [2 5]]\n",
      "\n"
     ]
    }
   ],
   "source": [
    "unsorted2d = np.array([[1,2],[3,1],[2,4],[5,2]])\n",
    "print(\"Sorting 2D By Column \\n\",np.sort(unsorted2d,axis=0))\n",
    "print(\"Sorting 2D By Row \\n\",np.sort(unsorted2d,axis=1))\n",
    "\n",
    "\n",
    "print()\n"
   ]
  },
  {
   "cell_type": "markdown",
   "id": "f522d6aa",
   "metadata": {},
   "source": [
    "---\n",
    "## Filtering Array"
   ]
  },
  {
   "cell_type": "code",
   "execution_count": 10,
   "id": "300b16b8",
   "metadata": {},
   "outputs": [
    {
     "name": "stdout",
     "output_type": "stream",
     "text": [
      "Even No:\n",
      " [ 2  4  6  8 10 12 14 16 18 20 22 24 26 28 30 32 34 36 38 40 42 44 46 48\n",
      " 50]\n",
      "Odd  No:\n",
      " [ 1  3  5  7  9 11 13 15 17 19 21 23 25 27 29 31 33 35 37 39 41 43 45 47\n",
      " 49]\n"
     ]
    }
   ],
   "source": [
    "Numbers = np.arange(1,51)\n",
    "\n",
    "evenNO = Numbers[Numbers % 2 == 0]\n",
    "oddNo = Numbers[Numbers % 2 == 1]\n",
    "\n",
    "print(\"Even No:\\n\",evenNO)\n",
    "print(\"Odd  No:\\n\",oddNo)\n"
   ]
  },
  {
   "cell_type": "markdown",
   "id": "d26d3957",
   "metadata": {},
   "source": [
    "### Filter With Masks"
   ]
  },
  {
   "cell_type": "code",
   "execution_count": 11,
   "id": "6cfae9c8",
   "metadata": {},
   "outputs": [
    {
     "name": "stdout",
     "output_type": "stream",
     "text": [
      "Filter Using Masks [21 22 23 24 25 26 27 28 29 30 31 32 33 34 35 36 37 38 39 40]\n"
     ]
    }
   ],
   "source": [
    "mask =  (Numbers > 20) & (Numbers <= 40)\n",
    "print(\"Filter Using Masks\",Numbers[mask])"
   ]
  },
  {
   "cell_type": "markdown",
   "id": "74a92cfc",
   "metadata": {},
   "source": [
    "---\n",
    "# Fancy Indexing Vs np.where"
   ]
  },
  {
   "cell_type": "code",
   "execution_count": 15,
   "id": "32db3524",
   "metadata": {},
   "outputs": [
    {
     "name": "stdout",
     "output_type": "stream",
     "text": [
      "[ 2  6  4 25]\n",
      "NP where:\n",
      " (array([ 5,  6,  7,  8,  9, 10, 11, 12, 13, 14, 15, 16, 17, 18]),)\n",
      "same same but different [ 6  7  8  9 10 11 12 13 14 15 16 17 18 19]\n"
     ]
    }
   ],
   "source": [
    "indices = [1,5,3,24]\n",
    "print(Numbers[indices])\n",
    "\n",
    "\n",
    "where_result = np.where((Numbers < 20)& (Numbers > 5))\n",
    "print(\"NP where:\\n\",where_result)\n",
    "\n",
    "print(\"same same but different\",Numbers[where_result])"
   ]
  },
  {
   "cell_type": "markdown",
   "id": "ada5881a",
   "metadata": {},
   "source": [
    "---\n",
    "### Conditional Array\n"
   ]
  },
  {
   "cell_type": "code",
   "execution_count": null,
   "id": "19d48193",
   "metadata": {},
   "outputs": [
    {
     "name": "stdout",
     "output_type": "stream",
     "text": [
      "Original array      [ 0  1  2  3  4  5  6  7  8  9 10 11 12 13 14 15 16 17 18 19 20]\n",
      "multiply 2 after 10 [ 0  1  2  3  4  5  6  7  8  9 10 22 24 26 28 30 32 34 36 38 20]\n"
     ]
    }
   ],
   "source": [
    "num = np.arange(0,21)\n",
    "print(\"Original array     \",num)\n",
    "conditionalArr = np.where((num > 10)&(num<20),num*2,num)\n",
    "print(\"multiply 2 after 10\",conditionalArr)"
   ]
  },
  {
   "cell_type": "markdown",
   "id": "58e4d111",
   "metadata": {},
   "source": [
    "---\n",
    "# Adding And Removing Data from Array"
   ]
  },
  {
   "cell_type": "code",
   "execution_count": 26,
   "id": "74ee9be8",
   "metadata": {},
   "outputs": [
    {
     "name": "stdout",
     "output_type": "stream",
     "text": [
      "[1 2 3 4 5 6]\n",
      "[4 5 6 1 2 3]\n"
     ]
    }
   ],
   "source": [
    "arr1 = np.array([1,2,3])\n",
    "arr2 = np.array([4,5,6])\n",
    "\n",
    "adding = np.concatenate((arr1,arr2))\n",
    "adding1 = np.concatenate((arr2,arr1))\n",
    "print(adding)\n",
    "print(adding1)"
   ]
  },
  {
   "cell_type": "markdown",
   "id": "5d84fff9",
   "metadata": {},
   "source": [
    "### Array Compatibility "
   ]
  },
  {
   "cell_type": "code",
   "execution_count": 28,
   "id": "a3cbc875",
   "metadata": {},
   "outputs": [
    {
     "name": "stdout",
     "output_type": "stream",
     "text": [
      "Compatibilty Shapes =>  True\n",
      "Compatibilty Shapes =>  False\n"
     ]
    }
   ],
   "source": [
    "a = np.array([1,2,3])\n",
    "b = np.array([4,5,6])\n",
    "c = np.array([7,8])\n",
    "\n",
    "print(\"Compatibilty Shapes => \", a.shape == b.shape)\n",
    "print(\"Compatibilty Shapes => \", b.shape == c.shape)"
   ]
  },
  {
   "cell_type": "markdown",
   "id": "47a79401",
   "metadata": {},
   "source": [
    "### Array Row Add\n"
   ]
  },
  {
   "cell_type": "code",
   "execution_count": null,
   "id": "cfeed94b",
   "metadata": {},
   "outputs": [
    {
     "name": "stdout",
     "output_type": "stream",
     "text": [
      "[[1 2 3]\n",
      " [4 5 6]]\n",
      "[1 2 3 4 5 6]\n"
     ]
    }
   ],
   "source": [
    "with_row = np.vstack((a,b))\n",
    "with_column = np.hstack((a,b))\n",
    "\n",
    "\n",
    "print(with_row)\n",
    "print(with_column)"
   ]
  },
  {
   "cell_type": "code",
   "execution_count": 36,
   "id": "54ef6263",
   "metadata": {},
   "outputs": [
    {
     "name": "stdout",
     "output_type": "stream",
     "text": [
      "[ 1  2  3  5  6  7  8  9 10]\n",
      "[ 1  2  3  4  5  6  7  8  9 10]\n"
     ]
    }
   ],
   "source": [
    "arr = np.array([1,2,3,4,5,6,7,8,9,10])\n",
    "deleted  =  np.delete(arr,3)\n",
    "print(deleted)\n",
    "print(arr)"
   ]
  }
 ],
 "metadata": {
  "kernelspec": {
   "display_name": "venv",
   "language": "python",
   "name": "python3"
  },
  "language_info": {
   "codemirror_mode": {
    "name": "ipython",
    "version": 3
   },
   "file_extension": ".py",
   "mimetype": "text/x-python",
   "name": "python",
   "nbconvert_exporter": "python",
   "pygments_lexer": "ipython3",
   "version": "3.13.5"
  }
 },
 "nbformat": 4,
 "nbformat_minor": 5
}
