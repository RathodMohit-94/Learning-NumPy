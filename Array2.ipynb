{
 "cells": [
  {
   "cell_type": "markdown",
   "id": "694f59c2",
   "metadata": {},
   "source": [
    "# Phase 2 Array\n",
    "---"
   ]
  },
  {
   "cell_type": "code",
   "execution_count": 1,
   "id": "d8abb628",
   "metadata": {},
   "outputs": [],
   "source": [
    "import numpy as np"
   ]
  },
  {
   "cell_type": "markdown",
   "id": "fb5cf212",
   "metadata": {},
   "source": [
    "## NumPy Array Operation \n",
    "---\n"
   ]
  },
  {
   "cell_type": "markdown",
   "id": "577baabf",
   "metadata": {},
   "source": [
    "- Basic Slicing\n"
   ]
  },
  {
   "cell_type": "code",
   "execution_count": 12,
   "id": "593d5b65",
   "metadata": {},
   "outputs": [
    {
     "name": "stdout",
     "output_type": "stream",
     "text": [
      "Orginal Array:\n",
      " [ 0  1  2  3  4  5  6  7  8  9 10]\n",
      "Basic Slicing:\n",
      " [2 3 4 5]\n",
      "Negetive Index: 0\n",
      "Negetive Index: 6\n",
      "Negetive Index: 7\n",
      "\n",
      "\n",
      "\n",
      "Orginal Array:\n",
      " [ 1  2  3  4  5  6  7  8  9 10]\n",
      "Basic Slicing :\n",
      " [4 5 6 7 8]\n",
      "Negetive Index: 7\n",
      "Negetive Index: 8\n",
      "Negetive Index: 9\n"
     ]
    }
   ],
   "source": [
    "arr = np.arange(11)\n",
    "print(\"Orginal Array:\\n\",arr)\n",
    "print(\"Basic Slicing:\\n\",arr[2:6])\n",
    "print(\"Negetive Index:\",arr[-0])\n",
    "print(\"Negetive Index:\",arr[-5])\n",
    "print(\"Negetive Index:\",arr[-4])\n",
    "\n",
    "print(\"\\n\\n\")\n",
    "\n",
    "arr1 = np.array([1,2,3,4,5,6,7,8,9,10])\n",
    "print(\"Orginal Array:\\n\",arr1)\n",
    "print(\"Basic Slicing :\\n\",arr1[3:8])\n",
    "print(\"Negetive Index:\",arr[-4])\n",
    "print(\"Negetive Index:\",arr[-3])\n",
    "print(\"Negetive Index:\",arr[-2])"
   ]
  },
  {
   "cell_type": "code",
   "execution_count": 8,
   "id": "1f617259",
   "metadata": {},
   "outputs": [
    {
     "name": "stdout",
     "output_type": "stream",
     "text": [
      "With Step Or Slice [1 4 7]\n",
      "With Step Or Slice [2 4]\n"
     ]
    }
   ],
   "source": [
    "print(\"With Step Or Slice\",arr[1:10:3]) # in this 1:10:3 => 1 is start index, 10 is stop index, 3 is the index that is picked after first  index\n",
    "print(\"With Step Or Slice\",arr1[1:5:2])"
   ]
  },
  {
   "cell_type": "markdown",
   "id": "cdd98c6b",
   "metadata": {},
   "source": [
    "## 2D Array"
   ]
  },
  {
   "cell_type": "code",
   "execution_count": 15,
   "id": "a54f7866",
   "metadata": {},
   "outputs": [
    {
     "name": "stdout",
     "output_type": "stream",
     "text": [
      "Specific Element : 5\n",
      "Specific Element : 1\n",
      "Specific Element : 3\n"
     ]
    }
   ],
   "source": [
    "arr2d = np.array([\n",
    "    [1,2,3],\n",
    "    [4,5,6],\n",
    "    [7,8,9]\n",
    "])\n",
    "\n",
    "print(\"Specific Element :\",arr2d[1,1])\n",
    "print(\"Specific Element :\",arr2d[0,0])\n",
    "print(\"Specific Element :\",arr2d[0,2])\n"
   ]
  },
  {
   "cell_type": "markdown",
   "id": "efb760a0",
   "metadata": {},
   "source": [
    "---\n",
    "## Sorting Array"
   ]
  },
  {
   "cell_type": "code",
   "execution_count": 16,
   "id": "f0b0f275",
   "metadata": {},
   "outputs": [
    {
     "name": "stdout",
     "output_type": "stream",
     "text": [
      "[  3   2   4   4   5   6   2   5   6   7  32   4  56   2 455  67  24]\n",
      "sorted array [  2   2   2   3   4   4   4   5   5   6   6   7  24  32  56  67 455]\n"
     ]
    }
   ],
   "source": [
    "unsorted = np.array([3,2,4,4,5,6,2,5,6,7,32,4,56,2,455,67,24])\n",
    "print(unsorted)\n",
    "print(\"sorted array\",np.sort(unsorted))"
   ]
  },
  {
   "cell_type": "markdown",
   "id": "f22e0b92",
   "metadata": {},
   "source": [
    "---\n",
    "### Sorting 2D Array\n"
   ]
  },
  {
   "cell_type": "code",
   "execution_count": 20,
   "id": "23cf39d5",
   "metadata": {},
   "outputs": [
    {
     "name": "stdout",
     "output_type": "stream",
     "text": [
      "Sorting 2D By Column \n",
      " [[1 1]\n",
      " [2 2]\n",
      " [3 2]\n",
      " [5 4]]\n",
      "Sorting 2D By Row \n",
      " [[1 2]\n",
      " [1 3]\n",
      " [2 4]\n",
      " [2 5]]\n"
     ]
    }
   ],
   "source": [
    "unsorted2d = np.array([[1,2],[3,1],[2,4],[5,2]])\n",
    "print(\"Sorting 2D By Column \\n\",np.sort(unsorted2d,axis=0))\n",
    "print(\"Sorting 2D By Row \\n\",np.sort(unsorted2d,axis=1))\n"
   ]
  }
 ],
 "metadata": {
  "kernelspec": {
   "display_name": "venv",
   "language": "python",
   "name": "python3"
  },
  "language_info": {
   "codemirror_mode": {
    "name": "ipython",
    "version": 3
   },
   "file_extension": ".py",
   "mimetype": "text/x-python",
   "name": "python",
   "nbconvert_exporter": "python",
   "pygments_lexer": "ipython3",
   "version": "3.13.5"
  }
 },
 "nbformat": 4,
 "nbformat_minor": 5
}
