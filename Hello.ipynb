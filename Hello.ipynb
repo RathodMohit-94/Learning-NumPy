{
 "cells": [
  {
   "cell_type": "markdown",
   "id": "34c78088-af93-4e19-a177-3945e62fbb5b",
   "metadata": {},
   "source": [
    "# Welcome To First Programm"
   ]
  },
  {
   "cell_type": "code",
   "execution_count": null,
   "id": "1b66ee86-def7-4128-91bb-f077919e98bc",
   "metadata": {},
   "outputs": [
    {
     "name": "stdout",
     "output_type": "stream",
     "text": [
      "Hello , Mohit!\n"
     ]
    }
   ],
   "source": [
    "print(\"Hello , Mohit!\")"
   ]
  },
  {
   "cell_type": "code",
   "execution_count": null,
   "id": "f72b5372-8c5d-4f9e-ae92-e01e71ffc4e6",
   "metadata": {},
   "outputs": [
    {
     "name": "stdout",
     "output_type": "stream",
     "text": [
      "0\n",
      " \n",
      "0\n",
      "1\n",
      " \n",
      "0\n",
      "1\n",
      "2\n",
      " \n",
      "0\n",
      "1\n",
      "2\n",
      "3\n",
      " \n",
      "0\n",
      "1\n",
      "2\n",
      "3\n",
      "4\n",
      " \n"
     ]
    }
   ],
   "source": [
    "for i in range(0,5):\n",
    "    for j in range(0,i+1):\n",
    "        print(j)\n",
    "    print(\" \")"
   ]
  },
  {
   "cell_type": "markdown",
   "id": "1619fd49",
   "metadata": {},
   "source": [
    "# This is Just A Starting\n",
    "\n"
   ]
  },
  {
   "cell_type": "markdown",
   "id": "ef85f403",
   "metadata": {},
   "source": []
  }
 ],
 "metadata": {
  "kernelspec": {
   "display_name": "Python 3 (ipykernel)",
   "language": "python",
   "name": "python3"
  },
  "language_info": {
   "codemirror_mode": {
    "name": "ipython",
    "version": 3
   },
   "file_extension": ".py",
   "mimetype": "text/x-python",
   "name": "python",
   "nbconvert_exporter": "python",
   "pygments_lexer": "ipython3",
   "version": "3.13.5"
  }
 },
 "nbformat": 4,
 "nbformat_minor": 5
}
