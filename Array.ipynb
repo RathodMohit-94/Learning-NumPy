{
 "cells": [
  {
   "cell_type": "markdown",
   "id": "912b3cf2",
   "metadata": {},
   "source": [
    "# Creating Array And List In python"
   ]
  },
  {
   "cell_type": "code",
   "execution_count": 9,
   "id": "86fb7d2d",
   "metadata": {},
   "outputs": [
    {
     "name": "stdout",
     "output_type": "stream",
     "text": [
      "[1, 2, 3, 4]\n",
      "[1 2 3 4]\n",
      "list [1, 2, 3, 4] :Multiplication(2)= [1, 2, 3, 4, 1, 2, 3, 4] \n",
      "Array [1 2 3 4] :multplication(2)= [2 4 6 8]\n"
     ]
    }
   ],
   "source": [
    "import numpy as np\n",
    "\n",
    "# creating list\n",
    "\n",
    "py_list = [1,2,3,4]\n",
    "print(py_list)\n",
    "\n",
    "# # Multiplication Of List\n",
    "\n",
    "# print(\"Multiplication \",py_list * 2)\n",
    "\n",
    "# creating array using numpy\n",
    "\n",
    "py_array = np.array([1,2,3,4])\n",
    "print(py_array)\n",
    "\n",
    "# # Multiplication Of Array\n",
    "\n",
    "# print(\"Multiplication \",py_array * 2)\n",
    "\n",
    "# Differnece between list and array\n",
    "\n",
    "print(\"list\",py_list,\":Multiplication(2)=\",py_list*2,\"\\nArray\",py_array,\":multplication(2)=\",py_array*2)"
   ]
  }
 ],
 "metadata": {
  "kernelspec": {
   "display_name": "venv",
   "language": "python",
   "name": "python3"
  },
  "language_info": {
   "codemirror_mode": {
    "name": "ipython",
    "version": 3
   },
   "file_extension": ".py",
   "mimetype": "text/x-python",
   "name": "python",
   "nbconvert_exporter": "python",
   "pygments_lexer": "ipython3",
   "version": "3.13.5"
  }
 },
 "nbformat": 4,
 "nbformat_minor": 5
}
