{
 "cells": [
  {
   "cell_type": "markdown",
   "id": "912b3cf2",
   "metadata": {},
   "source": [
    "# Creating Array And List In python"
   ]
  },
  {
   "cell_type": "code",
   "execution_count": 10,
   "id": "f8b8711b",
   "metadata": {},
   "outputs": [],
   "source": [
    "import numpy as np"
   ]
  },
  {
   "cell_type": "code",
   "execution_count": 11,
   "id": "86fb7d2d",
   "metadata": {},
   "outputs": [
    {
     "name": "stdout",
     "output_type": "stream",
     "text": [
      "[1, 2, 3, 4]\n",
      "[1 2 3 4]\n",
      "list [1, 2, 3, 4] :Multiplication(2)= [1, 2, 3, 4, 1, 2, 3, 4] \n",
      "Array [1 2 3 4] :multplication(2)= [2 4 6 8]\n"
     ]
    }
   ],
   "source": [
    "\n",
    "# creating list\n",
    "\n",
    "py_list = [1,2,3,4]\n",
    "print(py_list)\n",
    "\n",
    "# # Multiplication Of List\n",
    "\n",
    "# print(\"Multiplication \",py_list * 2)\n",
    "\n",
    "# creating array using numpy\n",
    "\n",
    "py_array = np.array([1,2,3,4])\n",
    "print(py_array)\n",
    "\n",
    "# # Multiplication Of Array\n",
    "\n",
    "# print(\"Multiplication \",py_array * 2)\n",
    "\n",
    "# Differnece between list and array\n",
    "\n",
    "print(\"list\",py_list,\":Multiplication(2)=\",py_list*2,\"\\nArray\",py_array,\":multplication(2)=\",py_array*2)"
   ]
  },
  {
   "cell_type": "code",
   "execution_count": 13,
   "id": "51ac7c8b",
   "metadata": {},
   "outputs": [
    {
     "name": "stdout",
     "output_type": "stream",
     "text": [
      "Zeros in Nummpy:\n",
      " [[0. 0. 0. 0. 0.]\n",
      " [0. 0. 0. 0. 0.]\n",
      " [0. 0. 0. 0. 0.]\n",
      " [0. 0. 0. 0. 0.]\n",
      " [0. 0. 0. 0. 0.]]\n"
     ]
    }
   ],
   "source": [
    "zeros  = np.zeros((5,5))\n",
    "print(\"Zeros in Nummpy:\\n\",zeros)"
   ]
  },
  {
   "cell_type": "code",
   "execution_count": 14,
   "id": "f17cabf5",
   "metadata": {},
   "outputs": [
    {
     "name": "stdout",
     "output_type": "stream",
     "text": [
      "Ones In NumPy: \n",
      " [[1. 1. 1. 1.]\n",
      " [1. 1. 1. 1.]\n",
      " [1. 1. 1. 1.]]\n"
     ]
    }
   ],
   "source": [
    "ones = np.ones((3,4))\n",
    "print(\"Ones In NumPy: \\n\",ones)"
   ]
  },
  {
   "cell_type": "code",
   "execution_count": 17,
   "id": "d6b378c1",
   "metadata": {},
   "outputs": [
    {
     "name": "stdout",
     "output_type": "stream",
     "text": [
      "Full Array :\n",
      " [[4 4]\n",
      " [4 4]]\n"
     ]
    }
   ],
   "source": [
    "full = np.full((2,2),4)\n",
    "print(\"Full Array :\\n\",full)"
   ]
  },
  {
   "cell_type": "code",
   "execution_count": null,
   "id": "85ccbab2",
   "metadata": {},
   "outputs": [
    {
     "name": "stdout",
     "output_type": "stream",
     "text": [
      "Random Array :\n",
      " [[0.94622946 0.94990483 0.4504915  0.14750274]\n",
      " [0.62742488 0.90633186 0.31886598 0.61613461]\n",
      " [0.51638957 0.95608655 0.79446383 0.83000455]]\n"
     ]
    }
   ],
   "source": [
    "random = np.random.random((3,4))\n",
    "print(\"Random Array :\\n\",random)"
   ]
  },
  {
   "cell_type": "code",
   "execution_count": 22,
   "id": "640058cf",
   "metadata": {},
   "outputs": [
    {
     "name": "stdout",
     "output_type": "stream",
     "text": [
      "Sequencce Array:\n",
      " [ 0  2  4  6  8 10]\n",
      "Sequencce Array:\n",
      " [ 0  1  2  3  4  5  6  7  8  9 10 11 12 13 14 15 16 17 18 19 20 21 22 23\n",
      " 24 25 26 27 28 29 30 31 32 33 34 35 36 37 38 39 40 41 42 43 44 45 46 47\n",
      " 48 49 50 51 52 53 54 55 56 57 58 59 60 61 62 63 64 65 66 67 68 69 70 71\n",
      " 72 73 74 75 76 77 78 79 80 81 82 83 84 85 86 87 88 89 90 91 92 93 94 95\n",
      " 96 97 98 99]\n"
     ]
    }
   ],
   "source": [
    "sequence = np.arange(0,11,2)\n",
    "print(\"Sequencce Array:\\n\",sequence)\n",
    "sequence = np.arange(0,100)\n",
    "print(\"Sequencce Array:\\n\",sequence)"
   ]
  },
  {
   "cell_type": "markdown",
   "id": "92e72afc",
   "metadata": {},
   "source": [
    "# Vector , Matrix & Tensor\n",
    "---"
   ]
  },
  {
   "cell_type": "markdown",
   "id": "81c2fdbb",
   "metadata": {},
   "source": [
    "# Vector \n",
    "---"
   ]
  },
  {
   "cell_type": "code",
   "execution_count": 27,
   "id": "3c37a9e8",
   "metadata": {},
   "outputs": [
    {
     "name": "stdout",
     "output_type": "stream",
     "text": [
      "Vector :\n",
      " [1 2 3 4 5 6]\n"
     ]
    }
   ],
   "source": [
    "vector = np.array([1,2,3,4,5,6])\n",
    "print(\"Vector :\\n\",vector)"
   ]
  },
  {
   "cell_type": "markdown",
   "id": "93543da3",
   "metadata": {},
   "source": [
    "# Matrix\n",
    "---"
   ]
  },
  {
   "cell_type": "code",
   "execution_count": null,
   "id": "23550e5e",
   "metadata": {},
   "outputs": [
    {
     "name": "stdout",
     "output_type": "stream",
     "text": [
      "Matrix :\n",
      " [[1 2 3]\n",
      " [4 5 6]\n",
      " [7 8 9]]\n"
     ]
    }
   ],
   "source": [
    "matrix = np.array([\n",
    "    [1,2,3],\n",
    "    [4,5,6],\n",
    "    [7,8,9]\n",
    "])\n",
    "print(\"Matrix :\\n\",matrix)"
   ]
  },
  {
   "cell_type": "markdown",
   "id": "566e9911",
   "metadata": {},
   "source": [
    "# Tensor\n",
    "---"
   ]
  },
  {
   "cell_type": "code",
   "execution_count": 26,
   "id": "ab7698e4",
   "metadata": {},
   "outputs": [
    {
     "name": "stdout",
     "output_type": "stream",
     "text": [
      "Tensor :\n",
      " [[[1 2]\n",
      "  [3 4]]\n",
      "\n",
      " [[5 6]\n",
      "  [7 8]]]\n"
     ]
    }
   ],
   "source": [
    "tensor = np.array([[[1,2],[3,4]],[[5,6],[7,8]]])\n",
    "print(\"Tensor :\\n\",tensor)"
   ]
  },
  {
   "cell_type": "markdown",
   "id": "afe5fd8c",
   "metadata": {},
   "source": [
    "# Properties Of Array\n",
    "---"
   ]
  },
  {
   "cell_type": "code",
   "execution_count": 29,
   "id": "017ebfef",
   "metadata": {},
   "outputs": [
    {
     "name": "stdout",
     "output_type": "stream",
     "text": [
      "Shape Of Array: (2, 3)\n",
      "Dimention Of Array: 2\n",
      "Size of Array: 6\n",
      "Datatype Of Array: int64\n"
     ]
    }
   ],
   "source": [
    "arr = np.array([\n",
    "    [1,2,3],\n",
    "    [4,5,6]\n",
    "])\n",
    "print(\"Shape Of Array:\",arr.shape)\n",
    "print(\"Dimention Of Array:\",arr.ndim)\n",
    "print(\"Size of Array:\",arr.size)\n",
    "print(\"Datatype Of Array:\",arr.dtype)"
   ]
  },
  {
   "cell_type": "markdown",
   "id": "92e07a7f",
   "metadata": {},
   "source": [
    "# Reshaping Array\n"
   ]
  },
  {
   "cell_type": "code",
   "execution_count": 33,
   "id": "4caa6010",
   "metadata": {},
   "outputs": [
    {
     "name": "stdout",
     "output_type": "stream",
     "text": [
      "Original Array:\n",
      " [ 0  1  2  3  4  5  6  7  8  9 10 11]\n",
      "Reshaped Array:\n",
      " [[ 0  1  2  3]\n",
      " [ 4  5  6  7]\n",
      " [ 8  9 10 11]]\n"
     ]
    }
   ],
   "source": [
    "arr = np.arange(12)\n",
    "print(\"Original Array:\\n\",arr)\n",
    "\n",
    "reshaped = arr.reshape((3,4))\n",
    "print(\"Reshaped Array:\\n\",reshaped)"
   ]
  },
  {
   "cell_type": "markdown",
   "id": "5a7782f8",
   "metadata": {},
   "source": [
    "### Flatened Array From REshaped Array\n",
    "---"
   ]
  },
  {
   "cell_type": "code",
   "execution_count": 34,
   "id": "fdd8d5ed",
   "metadata": {},
   "outputs": [
    {
     "name": "stdout",
     "output_type": "stream",
     "text": [
      "Flatten array\n",
      " [ 0  1  2  3  4  5  6  7  8  9 10 11]\n"
     ]
    }
   ],
   "source": [
    "flatened = reshaped.flatten()\n",
    "print(\"Flatten array\\n\", flatened)"
   ]
  },
  {
   "cell_type": "markdown",
   "id": "75a0de22",
   "metadata": {},
   "source": [
    "### Raveled array (Returns the original or view instead of copy array..)\n",
    "---"
   ]
  },
  {
   "cell_type": "code",
   "execution_count": 35,
   "id": "9a18ad52",
   "metadata": {},
   "outputs": [
    {
     "name": "stdout",
     "output_type": "stream",
     "text": [
      "Raveled Array :\n",
      " [ 0  1  2  3  4  5  6  7  8  9 10 11]\n"
     ]
    }
   ],
   "source": [
    "raveled = reshaped.ravel()\n",
    "print(\"Raveled Array :\\n\",raveled)"
   ]
  },
  {
   "cell_type": "code",
   "execution_count": 37,
   "id": "840f8bc6",
   "metadata": {},
   "outputs": [
    {
     "name": "stdout",
     "output_type": "stream",
     "text": [
      "Transpose Array:\n",
      " [[ 0  4  8]\n",
      " [ 1  5  9]\n",
      " [ 2  6 10]\n",
      " [ 3  7 11]]\n"
     ]
    }
   ],
   "source": [
    "#Transpose array\n",
    "transpose = reshaped.T\n",
    "print(\"Transpose Array:\\n\",transpose)"
   ]
  }
 ],
 "metadata": {
  "kernelspec": {
   "display_name": "venv",
   "language": "python",
   "name": "python3"
  },
  "language_info": {
   "codemirror_mode": {
    "name": "ipython",
    "version": 3
   },
   "file_extension": ".py",
   "mimetype": "text/x-python",
   "name": "python",
   "nbconvert_exporter": "python",
   "pygments_lexer": "ipython3",
   "version": "3.13.5"
  }
 },
 "nbformat": 4,
 "nbformat_minor": 5
}
